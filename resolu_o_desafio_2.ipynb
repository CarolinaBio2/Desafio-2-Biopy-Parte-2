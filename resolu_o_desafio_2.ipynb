{
  "nbformat": 4,
  "nbformat_minor": 0,
  "metadata": {
    "colab": {
      "provenance": [],
      "authorship_tag": "ABX9TyPPE5EqKtDx8gmBo5G6QF67",
      "include_colab_link": true
    },
    "kernelspec": {
      "name": "python3",
      "display_name": "Python 3"
    },
    "language_info": {
      "name": "python"
    }
  },
  "cells": [
    {
      "cell_type": "markdown",
      "metadata": {
        "id": "view-in-github",
        "colab_type": "text"
      },
      "source": [
        "<a href=\"https://colab.research.google.com/github/CarolinaBio2/Desafio-2-Biopy-Parte-2/blob/main/resolu_o_desafio_2.ipynb\" target=\"_parent\"><img src=\"https://colab.research.google.com/assets/colab-badge.svg\" alt=\"Open In Colab\"/></a>"
      ]
    },
    {
      "cell_type": "code",
      "execution_count": null,
      "metadata": {
        "id": "eba9audOX59-",
        "colab": {
          "base_uri": "https://localhost:8080/"
        },
        "outputId": "26cc733c-2e98-4f63-cc67-fa6a17499eac"
      },
      "outputs": [
        {
          "output_type": "stream",
          "name": "stdout",
          "text": [
            "Collecting biopython\n",
            "  Downloading biopython-1.85-cp311-cp311-manylinux_2_17_x86_64.manylinux2014_x86_64.whl.metadata (13 kB)\n",
            "Requirement already satisfied: numpy in /usr/local/lib/python3.11/dist-packages (from biopython) (1.26.4)\n",
            "Downloading biopython-1.85-cp311-cp311-manylinux_2_17_x86_64.manylinux2014_x86_64.whl (3.3 MB)\n",
            "\u001b[2K   \u001b[90m━━━━━━━━━━━━━━━━━━━━━━━━━━━━━━━━━━━━━━━━\u001b[0m \u001b[32m3.3/3.3 MB\u001b[0m \u001b[31m29.4 MB/s\u001b[0m eta \u001b[36m0:00:00\u001b[0m\n",
            "\u001b[?25hInstalling collected packages: biopython\n",
            "Successfully installed biopython-1.85\n"
          ]
        }
      ],
      "source": [
        "pip install biopython"
      ]
    },
    {
      "cell_type": "code",
      "source": [
        "#Criar uma lista de genes que obtenha as coordenadas dos genes de interesse, presentes na lista baixada, atribuindo uma cor para esses genes"
      ],
      "metadata": {
        "id": "URKCrR6WbKcs"
      },
      "execution_count": null,
      "outputs": []
    },
    {
      "cell_type": "code",
      "source": [
        "from Bio import SeqIO\n",
        "#Criar uma lista vazia para arazenar as coordenadas de interesse\n",
        "info_coordenadas = []\n",
        "#Abrir o arquivo lista_genes.txt e usar um laço for para obter os genes em forma de lista, usando strip para remover possíveis espaços adicionais\n",
        "with open(\"lista_genes.txt\", \"r\") as f:\n",
        "  lista_genes = [line.strip() for line in f]\n",
        "#Iterar sobre as records do arquivo\n",
        "for record in SeqIO.parse(\"arquivo.desafio2.gbff\", \"genbank\"):\n",
        "  for features in record.features:\n",
        "    #Verificar se a feature é do tipo gene\n",
        "    if features.type == \"gene\":\n",
        "      #As vezes não tem o simbolo] do gene, mas tem o locus_tag\n",
        "      if 'gene' in features.qualifiers:\n",
        "        gene_id = features.qualifiers['gene'] [0]\n",
        "      elif 'locus_tag' in features.qualifiers:\n",
        "        gene_id = features.qualifiers['locus_tag'] [0]\n",
        "      #Verificar se está na lista de genes de interesse e obter as coordenadas\n",
        "      if gene_id in lista_genes:\n",
        "        start = features.location.start\n",
        "        end = features.location.end\n",
        "        #Armazenar as informações na lista vazia, escolhi a cor vermelha\n",
        "        info_coordenadas.append((gene_id, start, end, \"red\"))\n",
        "  #Gerar o arquivo final com a extensão txt ou bed\n",
        "  with open(\"genes_interesse.bed\", \"w\") as output_file:\n",
        "    for coordenada in info_coordenadas:\n",
        "      #Formato do arquivo separado por tab: sequência, início, fim, cor\n",
        "      output_file.write(f\"{coordenada[0]}\\t{coordenada[1]}\\t{coordenada[2]}\\t{coordenada[3]}\\n\")\n",
        "\n",
        "with open(\"genes_interesse.bed\", \"r\") as f:\n",
        "  print(f.read())\n",
        "  f.close()"
      ],
      "metadata": {
        "colab": {
          "base_uri": "https://localhost:8080/"
        },
        "id": "hQvsxyQnbao4",
        "outputId": "f6e2790b-c1ee-4ffe-878d-1fbee2314dba"
      },
      "execution_count": null,
      "outputs": [
        {
          "output_type": "stream",
          "name": "stdout",
          "text": [
            "dnaA\t0\t1524\tred\n",
            "gyrB\t5239\t7267\tred\n",
            "gyrA\t7301\t9818\tred\n",
            "Rv0010c\t13132\t13558\tred\n",
            "fgd1\t490782\t491793\tred\n",
            "mshA\t575347\t576790\tred\n",
            "ccsA\t619890\t620865\tred\n",
            "Rv0565c\t656009\t657470\tred\n",
            "hadA\t731929\t732406\tred\n",
            "nusG\t734253\t734970\tred\n",
            "rpoB\t759806\t763325\tred\n",
            "rpoC\t763369\t767320\tred\n",
            "mmpL5\t775585\t778480\tred\n",
            "mmpS5\t778476\t778905\tred\n",
            "Rv0678\t778989\t779487\tred\n",
            "rpsL\t781559\t781934\tred\n",
            "rplC\t800808\t801462\tred\n",
            "Rv1129c\t1253073\t1254534\tred\n",
            "fbiC\t1302930\t1305501\tred\n",
            "sigE\t1364412\t1365186\tred\n",
            "Rv1258c\t1406080\t1407340\tred\n",
            "embR\t1416180\t1417347\tred\n",
            "atpE\t1461044\t1461290\tred\n",
            "rrs\t1471845\t1473382\tred\n",
            "rrl\t1473657\t1476795\tred\n",
            "inhA\t1674201\t1675011\tred\n",
            "rpsA\t1833541\t1834987\tred\n",
            "tsnR\t1853605\t1854388\tred\n",
            "tlyA\t1917939\t1918746\tred\n",
            "bacA\t2062808\t2064728\tred\n",
            "ndh\t2101650\t2103042\tred\n",
            "katG\t2153888\t2156111\tred\n",
            "PPE35\t2167648\t2170612\tred\n",
            "Rv1979c\t2221718\t2223164\tred\n",
            "pncA\t2288680\t2289241\tred\n",
            "eis\t2714123\t2715332\tred\n",
            "ahpC\t2726192\t2726780\tred\n",
            "Rv2477c\t2782365\t2784042\tred\n",
            "pepQ\t2859299\t2860418\tred\n",
            "Rv2680\t2996104\t2996737\tred\n",
            "Rv2681\t2996738\t2998055\tred\n",
            "Rv2752c\t3064514\t3066191\tred\n",
            "Rv2983\t3339117\t3339762\tred\n",
            "Rv3083\t3448503\t3449991\tred\n",
            "whiB7\t3568400\t3568679\tred\n",
            "Rv3236c\t3611958\t3613116\tred\n",
            "lpqB\t3623158\t3624910\tred\n",
            "mtrB\t3624909\t3626613\tred\n",
            "mtrA\t3626662\t3627349\tred\n",
            "fbiA\t3640542\t3641538\tred\n",
            "fbiB\t3641534\t3642881\tred\n",
            "rpoA\t3877463\t3878507\tred\n",
            "ddn\t3986843\t3987299\tred\n",
            "clpC1\t4038157\t4040704\tred\n",
            "panD\t4043861\t4044281\tred\n",
            "glpK\t4138201\t4139755\tred\n",
            "embC\t4239862\t4243147\tred\n",
            "embA\t4243232\t4246517\tred\n",
            "embB\t4246513\t4249810\tred\n",
            "aftB\t4266952\t4268836\tred\n",
            "ubiA\t4268924\t4269833\tred\n",
            "ethA\t4326003\t4327473\tred\n",
            "ethR\t4327548\t4328199\tred\n",
            "whiB6\t4338170\t4338521\tred\n",
            "gid\t4407527\t4408202\tred\n",
            "\n"
          ]
        }
      ]
    }
  ]
}